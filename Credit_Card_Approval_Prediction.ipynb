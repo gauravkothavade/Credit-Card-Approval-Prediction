{
  "cells": [
    {
      "cell_type": "code",
      "execution_count": null,
      "metadata": {
        "id": "65Yf9DbwLlV-"
      },
      "outputs": [],
      "source": [
        "import pandas as pd"
      ]
    },
    {
      "cell_type": "code",
      "execution_count": null,
      "metadata": {
        "id": "annUsHPbzxYE"
      },
      "outputs": [],
      "source": [
        "from google.colab import drive\n",
        "drive.mount('/content/drive')"
      ]
    },
    {
      "cell_type": "code",
      "execution_count": null,
      "metadata": {
        "id": "cddqPhDuMAWR"
      },
      "outputs": [],
      "source": [
        "data = pd.read_csv('/content/drive/MyDrive/MLLabs/application_record.csv')\n",
        "record = pd.read_csv('/content/drive/MyDrive/MLLabs/credit_record.csv')"
      ]
    },
    {
      "cell_type": "code",
      "execution_count": null,
      "metadata": {
        "id": "gsz_5TgoMqXN"
      },
      "outputs": [],
      "source": [
        "data.columns"
      ]
    },
    {
      "cell_type": "code",
      "execution_count": null,
      "metadata": {
        "id": "MEWpsmyIMygu"
      },
      "outputs": [],
      "source": [
        "record.columns"
      ]
    },
    {
      "cell_type": "code",
      "execution_count": null,
      "metadata": {
        "id": "EF3MG-mAM04k"
      },
      "outputs": [],
      "source": [
        "data.shape,record.shape"
      ]
    },
    {
      "cell_type": "markdown",
      "metadata": {
        "id": "iETe9gW8NJVx"
      },
      "source": [
        "No of Rows in Application_Record:"
      ]
    },
    {
      "cell_type": "code",
      "execution_count": null,
      "metadata": {
        "id": "ochEyNjsNE8L"
      },
      "outputs": [],
      "source": [
        "print('No of Rows in Application_Record: ',data.shape[0])\n",
        "print('No of Columns in Application Record: ',data.shape[1])"
      ]
    },
    {
      "cell_type": "code",
      "execution_count": null,
      "metadata": {
        "id": "ufzQjQB7Nj2J"
      },
      "outputs": [],
      "source": [
        "print('No of Rows in Credit Record: ',record.shape[0])\n",
        "print('No of col in Credit Record: ',record.shape[1])"
      ]
    },
    {
      "cell_type": "code",
      "execution_count": null,
      "metadata": {
        "id": "NHw6HXknNw1O"
      },
      "outputs": [],
      "source": [
        "data.dtypes"
      ]
    },
    {
      "cell_type": "code",
      "execution_count": null,
      "metadata": {
        "id": "s0CvIipzN4q6"
      },
      "outputs": [],
      "source": [
        "record.dtypes"
      ]
    },
    {
      "cell_type": "code",
      "execution_count": null,
      "metadata": {
        "id": "EZXfDJPUN6Be"
      },
      "outputs": [],
      "source": [
        "data.head()"
      ]
    },
    {
      "cell_type": "code",
      "execution_count": null,
      "metadata": {
        "id": "PQns6s0NOdpT"
      },
      "outputs": [],
      "source": [
        "record.head()"
      ]
    },
    {
      "cell_type": "markdown",
      "metadata": {
        "id": "sMI_Y60XOtPc"
      },
      "source": [
        "# Preprocessing"
      ]
    },
    {
      "cell_type": "markdown",
      "metadata": {
        "id": "zPF8p54d2q4g"
      },
      "source": [
        "On Record Dataset"
      ]
    },
    {
      "cell_type": "code",
      "execution_count": null,
      "metadata": {
        "id": "YDjZU42IONuD"
      },
      "outputs": [],
      "source": [
        "record['STATUS'].unique()"
      ]
    },
    {
      "cell_type": "markdown",
      "metadata": {
        "id": "MlWG_kk_OLaV"
      },
      "source": [
        "\n",
        "  0 : 1 Month past due\n",
        "\n",
        "  1 : 1-2 Month past due\n",
        "\n",
        "  2 : 2-3 Month Overdue\n",
        "\n",
        "  3 : 3-4 Month Overdue\n",
        "\n",
        "  4 : 4-5 Month Overdue\n",
        "\n",
        "  5 : Overdue or Bad Debts\n",
        "\n",
        "  C : Paid Off that month\n",
        "\n",
        "  X : No loan for the month\n"
      ]
    },
    {
      "cell_type": "code",
      "execution_count": null,
      "metadata": {
        "id": "Fsps3X5_OnDs"
      },
      "outputs": [],
      "source": [
        "begin_months = record.groupby(['ID'])['MONTHS_BALANCE'].agg(min)"
      ]
    },
    {
      "cell_type": "code",
      "execution_count": null,
      "metadata": {
        "id": "ZkHh01G1RPuG"
      },
      "outputs": [],
      "source": [
        "begin_month=pd.DataFrame(begin_months)\n",
        "begin_month.rename(columns={'MONTHS_BALANCE':'Begin Months'},inplace=True)\n",
        "new_data=pd.merge(data,begin_month,how=\"left\",on=\"ID\")"
      ]
    },
    {
      "cell_type": "code",
      "execution_count": null,
      "metadata": {
        "id": "PadT3-5ONV4E"
      },
      "outputs": [],
      "source": [
        "new_data.head()"
      ]
    },
    {
      "cell_type": "code",
      "execution_count": null,
      "metadata": {
        "id": "VASqCGhLNYe8"
      },
      "outputs": [],
      "source": [
        "# Here new target column is created annd according to status value target 'yes' is decided\n",
        "record['target'] = None\n",
        "record.loc[record['STATUS'].isin(['2', '3', '4', '5']), 'target'] = 'Yes'"
      ]
    },
    {
      "cell_type": "code",
      "execution_count": null,
      "metadata": {
        "id": "dFXhdnUesV2Y"
      },
      "outputs": [],
      "source": [
        "record.head()"
      ]
    },
    {
      "cell_type": "code",
      "execution_count": null,
      "metadata": {
        "id": "fFgnTJRzgHwp"
      },
      "outputs": [],
      "source": [
        "record['target'].unique()"
      ]
    },
    {
      "cell_type": "code",
      "execution_count": null,
      "metadata": {
        "id": "gQ_6Mp5EgWyb"
      },
      "outputs": [],
      "source": [
        "temp = record.groupby('ID').count()\n",
        "print(temp['target'].unique())\n",
        "temp['target'][temp['target'] > 0] = 'Yes' # Specify Default\n",
        "temp['target'][temp['target'] == 0] = 'No' # Specify Non Default\n",
        "temp = temp[['target']]  # Only store target column\n",
        "new_data = pd.merge(new_data, temp, how='inner', on='ID')\n",
        "new_data['target'] = new_data['target'].map({'Yes': 1, 'No': 0})\n",
        "new_data # here it includes target column"
      ]
    },
    {
      "cell_type": "code",
      "execution_count": null,
      "metadata": {
        "id": "A1I89p1jrW6V"
      },
      "outputs": [],
      "source": [
        "new_data['target'].unique()"
      ]
    },
    {
      "cell_type": "markdown",
      "metadata": {
        "id": "vNpwRubGLg1i"
      },
      "source": [
        "## Feature Engineering"
      ]
    },
    {
      "cell_type": "markdown",
      "metadata": {
        "id": "KqmH6mclEJ_o"
      },
      "source": [
        "Days Birth Column"
      ]
    },
    {
      "cell_type": "code",
      "execution_count": null,
      "metadata": {
        "id": "f2MyZW_NEJWn"
      },
      "outputs": [],
      "source": [
        "new_data['Age'] = new_data['DAYS_BIRTH'].abs()//365\n",
        "print(new_data['Age'])\n",
        "new_data.drop(['DAYS_BIRTH'],axis=1,inplace=True)"
      ]
    },
    {
      "cell_type": "markdown",
      "metadata": {
        "id": "5iSNPTfxJs6I"
      },
      "source": [
        "Days Employed Column"
      ]
    },
    {
      "cell_type": "code",
      "execution_count": null,
      "metadata": {
        "id": "k-FbNk7LJsP4"
      },
      "outputs": [],
      "source": [
        "new_data['Job Experiance'] = new_data['DAYS_EMPLOYED'].abs()//365\n",
        "print(new_data['Job Experiance'])\n",
        "new_data.drop(['DAYS_EMPLOYED'],axis=1,inplace=True)"
      ]
    },
    {
      "cell_type": "markdown",
      "metadata": {
        "id": "UAtrEzmE29JU"
      },
      "source": [
        "## Renaming Columns"
      ]
    },
    {
      "cell_type": "code",
      "execution_count": null,
      "metadata": {
        "id": "m7y_il__2bfD"
      },
      "outputs": [],
      "source": [
        "new_data.rename(columns={'CODE_GENDER':'Gender','FLAG_OWN_CAR':'Car','FLAG_OWN_REALTY':'Reality',\n",
        "                         'CNT_CHILDREN':'Total Children','AMT_INCOME_TOTAL':'Income',\n",
        "                         'NAME_EDUCATION_TYPE':'Education','NAME_FAMILY_STATUS':'Marital Status',\n",
        "                        'NAME_HOUSING_TYPE':'Housing Type','FLAG_EMAIL':'Email','FLAG_MOBIL':'Mobile',\n",
        "                         'NAME_INCOME_TYPE':'Income Type','FLAG_WORK_PHONE':'Work Phone',\n",
        "                         'FLAG_PHONE':'Phone','CNT_FAM_MEMBERS':'Total Family Members',\n",
        "                        'OCCUPATION_TYPE':'Occupation Type','target':'Target'\n",
        "                        },inplace=True)\n",
        "new_data.columns\n"
      ]
    },
    {
      "cell_type": "markdown",
      "metadata": {
        "id": "dR59JZdU9wZz"
      },
      "source": [
        "## Separate Categorical And Numerical Columns"
      ]
    },
    {
      "cell_type": "code",
      "execution_count": null,
      "metadata": {
        "id": "FMwVJV3m97a8"
      },
      "outputs": [],
      "source": [
        "num_col = new_data.select_dtypes(exclude=object).columns\n",
        "cat_col = new_data.select_dtypes(include=object).columns\n",
        "print('Numerical Column: \\n',num_col)\n",
        "print('\\nCategorical Columns:\\n',cat_col)"
      ]
    },
    {
      "cell_type": "code",
      "execution_count": null,
      "metadata": {
        "id": "k_u0jAqtGvr4"
      },
      "outputs": [],
      "source": [
        "num_col = num_col.drop('Target')\n",
        "num_col = num_col.drop('ID')"
      ]
    },
    {
      "cell_type": "markdown",
      "metadata": {
        "id": "NFxOyroF3bw5"
      },
      "source": [
        "## Missing Values"
      ]
    },
    {
      "cell_type": "code",
      "execution_count": null,
      "metadata": {
        "id": "kowvsBeC3GVP"
      },
      "outputs": [],
      "source": [
        "new_data.isna().sum()"
      ]
    },
    {
      "cell_type": "code",
      "execution_count": null,
      "metadata": {
        "id": "9LIyDaPt3jGt"
      },
      "outputs": [],
      "source": [
        "# See Percent Missing Values in Occupation Type\n",
        "miss_rows = new_data['Occupation Type'].isna().sum()\n",
        "total_rows = new_data['Occupation Type'].shape[0]\n",
        "print('Missing Rows: ',miss_rows)\n",
        "print('Total Rows: ',total_rows)\n",
        "percent_missing = (miss_rows/total_rows)*100\n",
        "print('Missing Percentage: ',percent_missing)"
      ]
    },
    {
      "cell_type": "code",
      "execution_count": null,
      "metadata": {
        "id": "r79WnfVZ3x56"
      },
      "outputs": [],
      "source": [
        "new_data['Occupation Type'].unique()"
      ]
    },
    {
      "cell_type": "code",
      "execution_count": null,
      "metadata": {
        "id": "-T9YvzF34tHi"
      },
      "outputs": [],
      "source": [
        "new_data['Occupation Type'].fillna('Unknown',inplace=True)"
      ]
    },
    {
      "cell_type": "code",
      "execution_count": null,
      "metadata": {
        "id": "ZZT3He9P8s08"
      },
      "outputs": [],
      "source": [
        "new_data.isna().sum()"
      ]
    },
    {
      "cell_type": "code",
      "execution_count": null,
      "metadata": {
        "id": "Y-AgM82ddHoA"
      },
      "outputs": [],
      "source": [
        "new_data['Target'][new_data['Occupation Type']=='Unknown'].value_counts()"
      ]
    },
    {
      "cell_type": "code",
      "execution_count": null,
      "metadata": {
        "id": "LfykBlAif9I1"
      },
      "outputs": [],
      "source": [
        "new_data"
      ]
    },
    {
      "cell_type": "markdown",
      "metadata": {
        "id": "ODE38ES2rcvz"
      },
      "source": [
        "# Total 1 and 0"
      ]
    },
    {
      "cell_type": "code",
      "execution_count": null,
      "metadata": {
        "id": "-nStfQvGC1PA"
      },
      "outputs": [],
      "source": [
        "# Calculate percentage of 1's and 0's in dataset\n",
        "# 1: Default\n",
        "# 0: Non Default\n",
        "zeros = new_data['Target'].value_counts()[0]\n",
        "ones = new_data['Target'].value_counts()[1]\n",
        "print('No of Ones: ',ones)\n",
        "print('No of Zeros: ',zeros)\n",
        "print('Percentage of Ones: ',(ones/(ones+zeros))*100)\n",
        "print('Percentage of Zeros: ',(zeros/(ones+zeros))*100)"
      ]
    },
    {
      "cell_type": "markdown",
      "metadata": {
        "id": "2t9-FF3M9mEQ"
      },
      "source": [
        "## Drop Duplicates"
      ]
    },
    {
      "cell_type": "code",
      "execution_count": null,
      "metadata": {
        "id": "MPDLKhpl8349"
      },
      "outputs": [],
      "source": [
        "new_data.drop_duplicates(inplace=True)"
      ]
    },
    {
      "cell_type": "code",
      "execution_count": null,
      "metadata": {
        "id": "dCjd-891wnU1"
      },
      "outputs": [],
      "source": [
        "new_data.describe()"
      ]
    },
    {
      "cell_type": "markdown",
      "metadata": {
        "id": "DkE2SEAlcf_B"
      },
      "source": [
        "## Encoding"
      ]
    },
    {
      "cell_type": "code",
      "execution_count": null,
      "metadata": {
        "id": "dPO8VAheME-j"
      },
      "outputs": [],
      "source": [
        "cat_col"
      ]
    },
    {
      "cell_type": "code",
      "execution_count": null,
      "metadata": {
        "id": "nBJxOzJ0mmxf"
      },
      "outputs": [],
      "source": [
        "for col in cat_col:\n",
        "  print(col,': ',new_data[col].unique())"
      ]
    },
    {
      "cell_type": "markdown",
      "metadata": {
        "id": "Pf5QTgUMXoZD"
      },
      "source": [
        "### Marital Status"
      ]
    },
    {
      "cell_type": "code",
      "execution_count": null,
      "metadata": {
        "id": "PFC8goEVZI3n"
      },
      "outputs": [],
      "source": [
        "for status in new_data['Marital Status'].unique():\n",
        "  print(status,':',new_data['Marital Status'][new_data['Marital Status']==status].value_counts()[0])"
      ]
    },
    {
      "cell_type": "code",
      "execution_count": null,
      "metadata": {
        "id": "g0tNsXmlIqG1"
      },
      "outputs": [],
      "source": []
    },
    {
      "cell_type": "code",
      "execution_count": null,
      "metadata": {
        "id": "XuAsT6RNXnwn"
      },
      "outputs": [],
      "source": [
        "new_data['Marital Status'][new_data['Marital Status']=='Civil marriage'] = 'Married'\n",
        "new_data['Marital Status'][new_data['Marital Status']=='Single / not married'] = 'Single'\n",
        "new_data['Marital Status'][new_data['Marital Status']=='Separated'] = 'Single'\n",
        "new_data['Marital Status'][new_data['Marital Status']=='Widow'] = 'Single'"
      ]
    },
    {
      "cell_type": "code",
      "execution_count": null,
      "metadata": {
        "id": "6Jnqxtt0sEvy"
      },
      "outputs": [],
      "source": [
        "for status in new_data['Marital Status'].unique():\n",
        "  print(status,':',new_data['Marital Status'][new_data['Marital Status']==status].value_counts()[0])"
      ]
    },
    {
      "cell_type": "code",
      "execution_count": null,
      "metadata": {
        "id": "q47WdKxigo6q"
      },
      "outputs": [],
      "source": [
        "new_data.to_csv('Dataset.csv',index=False)"
      ]
    },
    {
      "cell_type": "markdown",
      "source": [
        "## Income type"
      ],
      "metadata": {
        "id": "Qs_z-NF-lwpm"
      }
    },
    {
      "cell_type": "code",
      "source": [
        "new_data['Income Type'].unique()"
      ],
      "metadata": {
        "id": "fsOP58JTl01w"
      },
      "execution_count": null,
      "outputs": []
    },
    {
      "cell_type": "markdown",
      "metadata": {
        "id": "gvlt4Stc8XX8"
      },
      "source": [
        "## One Hot Encoding"
      ]
    },
    {
      "cell_type": "code",
      "execution_count": null,
      "metadata": {
        "id": "83eQxqOOnDui"
      },
      "outputs": [],
      "source": [
        "nominal_col = ['Gender','Car','Reality','Marital Status']"
      ]
    },
    {
      "cell_type": "code",
      "execution_count": null,
      "metadata": {
        "id": "kBsKwjAH8bqS"
      },
      "outputs": [],
      "source": [
        "new_data_ohe = pd.get_dummies(new_data,columns=cat_col)"
      ]
    },
    {
      "cell_type": "code",
      "execution_count": null,
      "metadata": {
        "id": "D6ZkWjVoYJBf"
      },
      "outputs": [],
      "source": [
        "new_data_ohe.head()"
      ]
    },
    {
      "cell_type": "markdown",
      "metadata": {
        "id": "6H5Q6Qf2eZMH"
      },
      "source": [
        "# Standard Scaler"
      ]
    },
    {
      "cell_type": "code",
      "execution_count": null,
      "metadata": {
        "id": "M6OWaiJDeUv9"
      },
      "outputs": [],
      "source": [
        "from sklearn.preprocessing import StandardScaler"
      ]
    },
    {
      "cell_type": "code",
      "execution_count": null,
      "metadata": {
        "id": "0Z7ayXGefDNL"
      },
      "outputs": [],
      "source": [
        "sc = StandardScaler()"
      ]
    },
    {
      "cell_type": "code",
      "execution_count": null,
      "metadata": {
        "id": "MwX_C60VfGtc"
      },
      "outputs": [],
      "source": [
        "sc.fit(new_data_ohe.loc[:,num_col])"
      ]
    },
    {
      "cell_type": "code",
      "execution_count": null,
      "metadata": {
        "id": "rtTZjKaEfsVM"
      },
      "outputs": [],
      "source": [
        "new_data_ohe.loc[:,num_col] = sc.transform(new_data_ohe.loc[:,num_col])"
      ]
    },
    {
      "cell_type": "code",
      "execution_count": null,
      "metadata": {
        "id": "QuTCb5UzgT-g"
      },
      "outputs": [],
      "source": [
        "new_data_ohe.head()"
      ]
    },
    {
      "cell_type": "code",
      "execution_count": null,
      "metadata": {
        "id": "3KzDf9r8gXoe"
      },
      "outputs": [],
      "source": [
        "new_data.describe()"
      ]
    },
    {
      "cell_type": "markdown",
      "metadata": {
        "id": "FG6SNjKKgrSZ"
      },
      "source": [
        "# Outlier Handling"
      ]
    },
    {
      "cell_type": "code",
      "execution_count": null,
      "metadata": {
        "id": "3DMtFIb_guBn"
      },
      "outputs": [],
      "source": [
        "def outlier_treament_zscore(df , cont_columns):\n",
        "    \"\"\"\n",
        "    This is a function for treatment of outliers\n",
        "    In given data column by columns\n",
        "    Here Z-score / Standard scaler technique is used\n",
        "    Z_score = (x-mu)/sigma\n",
        "    mu => mean of the column\n",
        "    sigma => std_dev of a column\n",
        "    Here we\n",
        "    replace all outliers in every column one by one\n",
        "    when value < -3 replace with -3 and value > 3 replace with 3\n",
        "    \"\"\"\n",
        "    for col in cont_columns:\n",
        "        df.loc[df[col] < -3 , col] = -3\n",
        "        df.loc[df[col] > 3 , col] = 3\n",
        "    return df"
      ]
    },
    {
      "cell_type": "code",
      "execution_count": null,
      "metadata": {
        "id": "2fNYad3kgxYU"
      },
      "outputs": [],
      "source": [
        "new_data = outlier_treament_zscore(new_data_ohe,num_col)"
      ]
    },
    {
      "cell_type": "code",
      "execution_count": null,
      "metadata": {
        "id": "TX9M_2pFg90R"
      },
      "outputs": [],
      "source": [
        "new_data.describe()"
      ]
    },
    {
      "cell_type": "code",
      "execution_count": null,
      "metadata": {
        "id": "rJFno2m-hCTY"
      },
      "outputs": [],
      "source": [
        "new_data.dtypes"
      ]
    },
    {
      "cell_type": "code",
      "execution_count": null,
      "metadata": {
        "id": "OsalWPejehIi"
      },
      "outputs": [],
      "source": [
        "import matplotlib.pyplot as plt\n",
        "import seaborn as sns"
      ]
    },
    {
      "cell_type": "code",
      "execution_count": null,
      "metadata": {
        "id": "TvYLmISrecwd"
      },
      "outputs": [],
      "source": [
        "plt.figure(figsize=(30,18))\n",
        "sns.heatmap(new_data.corr(),cmap='summer', annot=True, square=True,  )\n",
        "plt.show()"
      ]
    },
    {
      "cell_type": "markdown",
      "metadata": {
        "id": "MvgmS2qsiOlU"
      },
      "source": [
        "# X and Y"
      ]
    },
    {
      "cell_type": "code",
      "execution_count": null,
      "metadata": {
        "id": "DuFb-LluiNfk"
      },
      "outputs": [],
      "source": [
        "Y = new_data['Target']\n",
        "X = new_data.drop(['Target','ID'],axis=1)"
      ]
    },
    {
      "cell_type": "code",
      "execution_count": null,
      "metadata": {
        "id": "mA9WZ_hvFXPk"
      },
      "outputs": [],
      "source": [
        "X"
      ]
    },
    {
      "cell_type": "markdown",
      "metadata": {
        "id": "J0ywk2nMifAJ"
      },
      "source": [
        "# Train Test Split"
      ]
    },
    {
      "cell_type": "code",
      "execution_count": null,
      "metadata": {
        "id": "6oj0PPG_incU"
      },
      "outputs": [],
      "source": [
        "from sklearn.model_selection import train_test_split"
      ]
    },
    {
      "cell_type": "code",
      "execution_count": null,
      "metadata": {
        "id": "oI2gFi4IijoH"
      },
      "outputs": [],
      "source": [
        "X_train, X_test, y_train, y_test = train_test_split(X,Y,\n",
        "                                                    stratify=Y, test_size=0.3,\n",
        "                                                    random_state = 100)"
      ]
    },
    {
      "cell_type": "markdown",
      "metadata": {
        "id": "yqSPfYO5fIFu"
      },
      "source": [
        "# Unsupervised Algorithm"
      ]
    },
    {
      "cell_type": "markdown",
      "metadata": {
        "id": "2pIzovl3Iuns"
      },
      "source": [
        "# Isolation Forest"
      ]
    },
    {
      "cell_type": "code",
      "execution_count": null,
      "metadata": {
        "id": "pJ3BRetvfrLB"
      },
      "outputs": [],
      "source": [
        "fraud_trans = new_data['Target'][new_data['Target']==1]\n",
        "norm_trans = new_data['Target'][new_data['Target']==0]"
      ]
    },
    {
      "cell_type": "code",
      "execution_count": null,
      "metadata": {
        "id": "3V76HQEUfVPP"
      },
      "outputs": [],
      "source": [
        "contamin = float(len(fraud_trans)/float(len(norm_trans)))\n",
        "\n",
        "from sklearn.ensemble import IsolationForest\n",
        "\n",
        "model = IsolationForest(random_state=10)\n",
        "model.fit(X_train)\n",
        "y_pred = model.predict(X_train)\n",
        "\n",
        "y_pred[y_pred==1]=0\n",
        "y_pred[y_pred==-1]=1"
      ]
    },
    {
      "cell_type": "code",
      "execution_count": null,
      "metadata": {
        "id": "1JN9bdiGnNn_"
      },
      "outputs": [],
      "source": [
        "from sklearn.metrics import accuracy_score"
      ]
    },
    {
      "cell_type": "code",
      "execution_count": null,
      "metadata": {
        "id": "0rPYKWNrgll4"
      },
      "outputs": [],
      "source": [
        "train_score = accuracy_score(y_train,y_pred)"
      ]
    },
    {
      "cell_type": "code",
      "execution_count": null,
      "metadata": {
        "id": "pKMLd2Z3gs_y"
      },
      "outputs": [],
      "source": [
        "train_score"
      ]
    },
    {
      "cell_type": "markdown",
      "metadata": {
        "id": "M52_ef9Vp64C"
      },
      "source": [
        "# One Class SVM"
      ]
    },
    {
      "cell_type": "code",
      "execution_count": null,
      "metadata": {
        "id": "WYoDUIPsp9jB"
      },
      "outputs": [],
      "source": [
        "from sklearn.svm import OneClassSVM\n",
        "\n",
        "# Create the One-class SVM object\n",
        "clf = OneClassSVM(kernel='rbf',nu=0.01)\n",
        "\n",
        "# Fit the data and tag the outliers\n",
        "clf.fit(X_train)\n",
        "\n",
        "# Get the predictions\n",
        "y_pred = clf.predict(X_train)\n",
        "\n",
        "# Reshape the predictions to a 1D array\n",
        "y_pred = y_pred.reshape(-1,1)\n",
        "\n",
        "y_pred[y_pred==-1] =1\n",
        "y_pred[y_pred==1] = 0"
      ]
    },
    {
      "cell_type": "code",
      "execution_count": null,
      "metadata": {
        "id": "YXDX_AScDtg1"
      },
      "outputs": [],
      "source": [
        "accuracy_score(y_train,y_pred)"
      ]
    }
  ],
  "metadata": {
    "colab": {
      "provenance": []
    },
    "kernelspec": {
      "display_name": "Python 3",
      "name": "python3"
    },
    "language_info": {
      "name": "python"
    }
  },
  "nbformat": 4,
  "nbformat_minor": 0
}